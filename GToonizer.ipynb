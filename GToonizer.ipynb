{
  "nbformat": 4,
  "nbformat_minor": 0,
  "metadata": {
    "colab": {
      "provenance": [],
      "authorship_tag": "ABX9TyPv6sE1Owv2sCjMuhIgvUm4",
      "include_colab_link": true
    },
    "kernelspec": {
      "name": "python3",
      "display_name": "Python 3"
    },
    "language_info": {
      "name": "python"
    }
  },
  "cells": [
    {
      "cell_type": "markdown",
      "metadata": {
        "id": "view-in-github",
        "colab_type": "text"
      },
      "source": [
        "<a href=\"https://colab.research.google.com/github/GenerockStudios/MovieToImage/blob/master/GToonizer.ipynb\" target=\"_parent\"><img src=\"https://colab.research.google.com/assets/colab-badge.svg\" alt=\"Open In Colab\"/></a>"
      ]
    },
    {
      "cell_type": "code",
      "execution_count": null,
      "metadata": {
        "id": "C0bgn9dpsLWO"
      },
      "outputs": [],
      "source": [
        "# Télécharger la video et la stocker dans un dossier\n",
        "# charger petit à petit la video\n",
        "# appliquer un effet peinture huile sur chaque image\n",
        "!pip install PyTube"
      ]
    }
  ]
}